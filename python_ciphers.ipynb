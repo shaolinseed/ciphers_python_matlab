{
 "cells": [
  {
   "cell_type": "markdown",
   "metadata": {},
   "source": [
    "# Caesar cipher functions"
   ]
  },
  {
   "cell_type": "markdown",
   "metadata": {},
   "source": [
    "# Caesar decode"
   ]
  },
  {
   "cell_type": "code",
   "execution_count": 17,
   "metadata": {},
   "outputs": [],
   "source": [
    "#function takes cipher_text and a key to shift alphabet by outputs plain_text\n",
    "def decode(cipher_text, key):\n",
    "    plain_text = \"\" #create empty plain text string to build output in\n",
    "    alphabet = \"ABCDEFGHIJKLMNOPQRSTUVWXYZ\" #store alphabet\n",
    "    text_length = len(cipher_text) #get length of cipher_text to know how many times to repeat loop\n",
    "    cipher_text = cipher_text.upper() #convert text to upper to avoid confusion\n",
    "\n",
    "    for i in range(text_length): #for each letter\n",
    "        current_char = cipher_text[i] #store current character in word\n",
    "        cipher_char_idx = alphabet.find(current_char) #find current character index in alphabet\n",
    "        plain_char_idx = (cipher_char_idx - key) % len(alphabet) #peform the shift by minus key and modulus incase of overflow in alphabet\n",
    "        plain_text += alphabet[plain_char_idx] #form the string\n",
    "        \n",
    "    return plain_text"
   ]
  },
  {
   "cell_type": "code",
   "execution_count": 18,
   "metadata": {},
   "outputs": [
    {
     "data": {
      "text/plain": [
       "'HELLOMYNAMEISRAHIM'"
      ]
     },
     "execution_count": 18,
     "metadata": {},
     "output_type": "execute_result"
    }
   ],
   "source": [
    "decode(\"MJQQTRDSFRJNXWFMNR\", 5)"
   ]
  },
  {
   "cell_type": "markdown",
   "metadata": {},
   "source": [
    "# Caesar encode"
   ]
  },
  {
   "cell_type": "code",
   "execution_count": 19,
   "metadata": {},
   "outputs": [],
   "source": [
    "#function takes plain_text text and a key to shift alphabet by outputs cipher_text\n",
    "def encode(plain_text, key):\n",
    "    cipher_text = \"\" #create empty plain text string to build output in\n",
    "    alphabet = \"ABCDEFGHIJKLMNOPQRSTUVWXYZ\" #store alphabet\n",
    "    text_length = len(plain_text) #store length\n",
    "    plain_text = plain_text.upper() #convert text to upper to avoid confusion\n",
    "\n",
    "    for i in range(text_length): #for each letter\n",
    "        current_char = plain_text[i] #store current character\n",
    "        plain_char_idx = alphabet.find(current_char) #find index of current char in alphabet\n",
    "        cipher_char_idx = (plain_char_idx + key) % len(alphabet) #plus the key to encode and modulus to account for overflow of alphabet\n",
    "        cipher_text += alphabet[cipher_char_idx] #form string\n",
    "    \n",
    "    \n",
    "    return cipher_text"
   ]
  },
  {
   "cell_type": "code",
   "execution_count": 20,
   "metadata": {},
   "outputs": [
    {
     "data": {
      "text/plain": [
       "'MJQQTRDSFRJNXWFMNR'"
      ]
     },
     "execution_count": 20,
     "metadata": {},
     "output_type": "execute_result"
    }
   ],
   "source": [
    "encode(\"HELLOMYNAMEISRAHIM\", 5)"
   ]
  },
  {
   "cell_type": "markdown",
   "metadata": {},
   "source": [
    "# Vigenere"
   ]
  },
  {
   "cell_type": "markdown",
   "metadata": {},
   "source": [
    "# Vigenere decode"
   ]
  },
  {
   "cell_type": "code",
   "execution_count": 21,
   "metadata": {},
   "outputs": [],
   "source": [
    "#function takes cipher text and key word outputs plaintext\n",
    "def decode_vigenere(cipher_text, key_word):\n",
    "    plain_text = \"\" #init empty string\n",
    "    alphabet = \"ABCDEFGHIJKLMNOPQRSTUVWXYZ\" #store alphabet\n",
    "    text_length = len(cipher_text) #store text length of message\n",
    "    key_word_length = len(key_word) #store length of key word\n",
    "    cipher_text = cipher_text.upper() #convert text to upper to avoid confusion\n",
    "    index_counter = 0 #used to store the index of the current character we are decoding\n",
    "    key_word_index = 0 #used to store the index of the current character in keyword\n",
    "\n",
    "    for i in range(text_length): #for each letter in message\n",
    "\n",
    "        cipher_char_index = alphabet.find(cipher_text[i]) #store current cipher character index when current letter is found to be in alphabet\n",
    "        key = alphabet.find(key_word[key_word_index]) #find the index of current keyword index in alphabet\n",
    "        plain_char_idx = (cipher_char_index - key) % len(alphabet) #mod of alphabet incase of overflow\n",
    "        plain_text += alphabet[plain_char_idx] #form string\n",
    "        key_word_index += 1 #increment key word index\n",
    "        if key_word_index >= key_word_length: #wrap round to start of key word if length is reached\n",
    "            key_word_index = 0 \n",
    "\n",
    "    return plain_text"
   ]
  },
  {
   "cell_type": "code",
   "execution_count": 22,
   "metadata": {},
   "outputs": [
    {
     "data": {
      "text/plain": [
       "'SORROWISKNOWLEDGE'"
      ]
     },
     "execution_count": 22,
     "metadata": {},
     "output_type": "execute_result"
    }
   ],
   "source": [
    "decode_vigenere(\"USCCONLGYEQAWPDXH\", \"CELLARDOOR\")"
   ]
  },
  {
   "cell_type": "code",
   "execution_count": 23,
   "metadata": {},
   "outputs": [],
   "source": [
    "def encode_vigenere(plain_text, key_word):\n",
    "    cipher_text = \"\" #empty string initialized for cipher text output\n",
    "    alphabet = \"ABCDEFGHIJKLMNOPQRSTUVWXYZ\" #alphabet stored\n",
    "    text_length = len(plain_text) #text length stored to know number of times to run for loop\n",
    "    key_word_length = len(key_word) #store length of keyword to know when to repeat word\n",
    "    cipher_text = cipher_text.upper() #convert text to upper to avoid confusion\n",
    "    index_counter = 0 #used to store the index of the current character we are decoding\n",
    "    key_word_index = 0 #used to store the index of the current character in keyword\n",
    "\n",
    "    for i in range(text_length): #for each letter in message\n",
    "\n",
    "        plain_char_idx = alphabet.find(plain_text[i])\n",
    "        key = alphabet.find(key_word[key_word_index]) #key to shift found by index of current letter in key word inside alphabet\n",
    "        cipher_char_idx = (plain_char_idx + key) % len(alphabet) #peform shift and modulus to account for overflow loop round\n",
    "        cipher_text += alphabet[cipher_char_idx] #form string\n",
    "        key_word_index += 1 #increment keyword index\n",
    "        if key_word_index >= key_word_length: #wrap round to start of key word if length is reached\n",
    "            key_word_index = 0\n",
    "   \n",
    "    return cipher_text"
   ]
  },
  {
   "cell_type": "code",
   "execution_count": 24,
   "metadata": {},
   "outputs": [
    {
     "data": {
      "text/plain": [
       "'USCCONLGYEQAWPDXH'"
      ]
     },
     "execution_count": 24,
     "metadata": {},
     "output_type": "execute_result"
    }
   ],
   "source": [
    "encode_vigenere(\"SORROWISKNOWLEDGE\", \"CELLARDOOR\")"
   ]
  }
 ],
 "metadata": {
  "kernelspec": {
   "display_name": "Python 3",
   "language": "python",
   "name": "python3"
  },
  "language_info": {
   "codemirror_mode": {
    "name": "ipython",
    "version": 3
   },
   "file_extension": ".py",
   "mimetype": "text/x-python",
   "name": "python",
   "nbconvert_exporter": "python",
   "pygments_lexer": "ipython3",
   "version": "3.7.4"
  }
 },
 "nbformat": 4,
 "nbformat_minor": 2
}
